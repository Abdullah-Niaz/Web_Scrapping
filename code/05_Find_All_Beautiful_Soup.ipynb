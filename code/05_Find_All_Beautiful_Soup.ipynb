{
 "cells": [
  {
   "cell_type": "code",
   "execution_count": 2,
   "metadata": {},
   "outputs": [],
   "source": [
    "import requests\n",
    "from bs4 import BeautifulSoup"
   ]
  },
  {
   "cell_type": "code",
   "execution_count": 4,
   "metadata": {},
   "outputs": [],
   "source": [
    "url = \"https://webscraper.io/test-sites/e-commerce/allinone/computers/laptops\"\n",
    "r = requests.get(url)"
   ]
  },
  {
   "cell_type": "code",
   "execution_count": 6,
   "metadata": {},
   "outputs": [],
   "source": [
    "soup = BeautifulSoup(r.text,\"html.parser\")"
   ]
  },
  {
   "cell_type": "code",
   "execution_count": 9,
   "metadata": {},
   "outputs": [],
   "source": [
    "price = soup.find_all(\"h4\",class_=\"price\")"
   ]
  },
  {
   "cell_type": "code",
   "execution_count": 11,
   "metadata": {},
   "outputs": [
    {
     "data": {
      "text/plain": [
       "[<h4 class=\"float-end price card-title pull-right\">$295.99</h4>,\n",
       " <h4 class=\"float-end price card-title pull-right\">$299.00</h4>,\n",
       " <h4 class=\"float-end price card-title pull-right\">$299.00</h4>,\n",
       " <h4 class=\"float-end price card-title pull-right\">$306.99</h4>,\n",
       " <h4 class=\"float-end price card-title pull-right\">$321.94</h4>,\n",
       " <h4 class=\"float-end price card-title pull-right\">$356.49</h4>,\n",
       " <h4 class=\"float-end price card-title pull-right\">$364.46</h4>,\n",
       " <h4 class=\"float-end price card-title pull-right\">$372.70</h4>,\n",
       " <h4 class=\"float-end price card-title pull-right\">$379.94</h4>,\n",
       " <h4 class=\"float-end price card-title pull-right\">$379.95</h4>,\n",
       " <h4 class=\"float-end price card-title pull-right\">$391.48</h4>,\n",
       " <h4 class=\"float-end price card-title pull-right\">$393.88</h4>,\n",
       " <h4 class=\"float-end price card-title pull-right\">$399.00</h4>,\n",
       " <h4 class=\"float-end price card-title pull-right\">$399.99</h4>,\n",
       " <h4 class=\"float-end price card-title pull-right\">$404.23</h4>,\n",
       " <h4 class=\"float-end price card-title pull-right\">$408.98</h4>,\n",
       " <h4 class=\"float-end price card-title pull-right\">$409.63</h4>,\n",
       " <h4 class=\"float-end price card-title pull-right\">$410.46</h4>,\n",
       " <h4 class=\"float-end price card-title pull-right\">$410.66</h4>,\n",
       " <h4 class=\"float-end price card-title pull-right\">$416.99</h4>,\n",
       " <h4 class=\"float-end price card-title pull-right\">$433.30</h4>,\n",
       " <h4 class=\"float-end price card-title pull-right\">$436.29</h4>,\n",
       " <h4 class=\"float-end price card-title pull-right\">$436.29</h4>,\n",
       " <h4 class=\"float-end price card-title pull-right\">$439.73</h4>,\n",
       " <h4 class=\"float-end price card-title pull-right\">$454.62</h4>,\n",
       " <h4 class=\"float-end price card-title pull-right\">$454.73</h4>,\n",
       " <h4 class=\"float-end price card-title pull-right\">$457.38</h4>,\n",
       " <h4 class=\"float-end price card-title pull-right\">$465.95</h4>,\n",
       " <h4 class=\"float-end price card-title pull-right\">$468.56</h4>,\n",
       " <h4 class=\"float-end price card-title pull-right\">$469.10</h4>,\n",
       " <h4 class=\"float-end price card-title pull-right\">$484.23</h4>,\n",
       " <h4 class=\"float-end price card-title pull-right\">$485.90</h4>,\n",
       " <h4 class=\"float-end price card-title pull-right\">$487.80</h4>,\n",
       " <h4 class=\"float-end price card-title pull-right\">$488.64</h4>,\n",
       " <h4 class=\"float-end price card-title pull-right\">$488.78</h4>,\n",
       " <h4 class=\"float-end price card-title pull-right\">$494.71</h4>,\n",
       " <h4 class=\"float-end price card-title pull-right\">$497.17</h4>,\n",
       " <h4 class=\"float-end price card-title pull-right\">$498.23</h4>,\n",
       " <h4 class=\"float-end price card-title pull-right\">$520.99</h4>,\n",
       " <h4 class=\"float-end price card-title pull-right\">$564.98</h4>,\n",
       " <h4 class=\"float-end price card-title pull-right\">$577.99</h4>,\n",
       " <h4 class=\"float-end price card-title pull-right\">$581.99</h4>,\n",
       " <h4 class=\"float-end price card-title pull-right\">$609.99</h4>,\n",
       " <h4 class=\"float-end price card-title pull-right\">$679.00</h4>,\n",
       " <h4 class=\"float-end price card-title pull-right\">$679.00</h4>,\n",
       " <h4 class=\"float-end price card-title pull-right\">$729.00</h4>,\n",
       " <h4 class=\"float-end price card-title pull-right\">$739.99</h4>,\n",
       " <h4 class=\"float-end price card-title pull-right\">$745.99</h4>,\n",
       " <h4 class=\"float-end price card-title pull-right\">$799.00</h4>,\n",
       " <h4 class=\"float-end price card-title pull-right\">$809.00</h4>,\n",
       " <h4 class=\"float-end price card-title pull-right\">$899.00</h4>,\n",
       " <h4 class=\"float-end price card-title pull-right\">$999.00</h4>,\n",
       " <h4 class=\"float-end price card-title pull-right\">$1033.99</h4>,\n",
       " <h4 class=\"float-end price card-title pull-right\">$1096.02</h4>,\n",
       " <h4 class=\"float-end price card-title pull-right\">$1098.42</h4>,\n",
       " <h4 class=\"float-end price card-title pull-right\">$1099.00</h4>,\n",
       " <h4 class=\"float-end price card-title pull-right\">$1099.00</h4>,\n",
       " <h4 class=\"float-end price card-title pull-right\">$1101.83</h4>,\n",
       " <h4 class=\"float-end price card-title pull-right\">$1102.66</h4>,\n",
       " <h4 class=\"float-end price card-title pull-right\">$1110.14</h4>,\n",
       " <h4 class=\"float-end price card-title pull-right\">$1112.91</h4>,\n",
       " <h4 class=\"float-end price card-title pull-right\">$1114.55</h4>,\n",
       " <h4 class=\"float-end price card-title pull-right\">$1123.87</h4>,\n",
       " <h4 class=\"float-end price card-title pull-right\">$1123.87</h4>,\n",
       " <h4 class=\"float-end price card-title pull-right\">$1124.20</h4>,\n",
       " <h4 class=\"float-end price card-title pull-right\">$1133.82</h4>,\n",
       " <h4 class=\"float-end price card-title pull-right\">$1133.91</h4>,\n",
       " <h4 class=\"float-end price card-title pull-right\">$1139.54</h4>,\n",
       " <h4 class=\"float-end price card-title pull-right\">$1140.62</h4>,\n",
       " <h4 class=\"float-end price card-title pull-right\">$1143.40</h4>,\n",
       " <h4 class=\"float-end price card-title pull-right\">$1144.20</h4>,\n",
       " <h4 class=\"float-end price card-title pull-right\">$1144.40</h4>,\n",
       " <h4 class=\"float-end price card-title pull-right\">$1149.00</h4>,\n",
       " <h4 class=\"float-end price card-title pull-right\">$1149.00</h4>,\n",
       " <h4 class=\"float-end price card-title pull-right\">$1149.73</h4>,\n",
       " <h4 class=\"float-end price card-title pull-right\">$1154.04</h4>,\n",
       " <h4 class=\"float-end price card-title pull-right\">$1170.10</h4>,\n",
       " <h4 class=\"float-end price card-title pull-right\">$1178.19</h4>,\n",
       " <h4 class=\"float-end price card-title pull-right\">$1178.99</h4>,\n",
       " <h4 class=\"float-end price card-title pull-right\">$1179.00</h4>,\n",
       " <h4 class=\"float-end price card-title pull-right\">$1187.88</h4>,\n",
       " <h4 class=\"float-end price card-title pull-right\">$1187.98</h4>,\n",
       " <h4 class=\"float-end price card-title pull-right\">$1199.00</h4>,\n",
       " <h4 class=\"float-end price card-title pull-right\">$1199.00</h4>,\n",
       " <h4 class=\"float-end price card-title pull-right\">$1199.73</h4>,\n",
       " <h4 class=\"float-end price card-title pull-right\">$1203.41</h4>,\n",
       " <h4 class=\"float-end price card-title pull-right\">$1212.16</h4>,\n",
       " <h4 class=\"float-end price card-title pull-right\">$1221.58</h4>,\n",
       " <h4 class=\"float-end price card-title pull-right\">$1223.99</h4>,\n",
       " <h4 class=\"float-end price card-title pull-right\">$1235.49</h4>,\n",
       " <h4 class=\"float-end price card-title pull-right\">$1238.37</h4>,\n",
       " <h4 class=\"float-end price card-title pull-right\">$1239.20</h4>,\n",
       " <h4 class=\"float-end price card-title pull-right\">$1244.99</h4>,\n",
       " <h4 class=\"float-end price card-title pull-right\">$1259.00</h4>,\n",
       " <h4 class=\"float-end price card-title pull-right\">$1260.13</h4>,\n",
       " <h4 class=\"float-end price card-title pull-right\">$1271.06</h4>,\n",
       " <h4 class=\"float-end price card-title pull-right\">$1273.11</h4>,\n",
       " <h4 class=\"float-end price card-title pull-right\">$1281.99</h4>,\n",
       " <h4 class=\"float-end price card-title pull-right\">$1294.74</h4>,\n",
       " <h4 class=\"float-end price card-title pull-right\">$1299.00</h4>,\n",
       " <h4 class=\"float-end price card-title pull-right\">$1310.39</h4>,\n",
       " <h4 class=\"float-end price card-title pull-right\">$1311.99</h4>,\n",
       " <h4 class=\"float-end price card-title pull-right\">$1326.83</h4>,\n",
       " <h4 class=\"float-end price card-title pull-right\">$1333.00</h4>,\n",
       " <h4 class=\"float-end price card-title pull-right\">$1337.28</h4>,\n",
       " <h4 class=\"float-end price card-title pull-right\">$1338.37</h4>,\n",
       " <h4 class=\"float-end price card-title pull-right\">$1341.22</h4>,\n",
       " <h4 class=\"float-end price card-title pull-right\">$1347.78</h4>,\n",
       " <h4 class=\"float-end price card-title pull-right\">$1349.23</h4>,\n",
       " <h4 class=\"float-end price card-title pull-right\">$1362.24</h4>,\n",
       " <h4 class=\"float-end price card-title pull-right\">$1366.32</h4>,\n",
       " <h4 class=\"float-end price card-title pull-right\">$1381.13</h4>,\n",
       " <h4 class=\"float-end price card-title pull-right\">$1399.00</h4>,\n",
       " <h4 class=\"float-end price card-title pull-right\">$1399.00</h4>,\n",
       " <h4 class=\"float-end price card-title pull-right\">$1769.00</h4>,\n",
       " <h4 class=\"float-end price card-title pull-right\">$1769.00</h4>,\n",
       " <h4 class=\"float-end price card-title pull-right\">$1799.00</h4>]"
      ]
     },
     "execution_count": 11,
     "metadata": {},
     "output_type": "execute_result"
    }
   ],
   "source": [
    "price"
   ]
  },
  {
   "cell_type": "code",
   "execution_count": 22,
   "metadata": {},
   "outputs": [
    {
     "name": "stdout",
     "output_type": "stream",
     "text": [
      "$295.99\n",
      "$299.00\n",
      "$299.00\n",
      "$306.99\n",
      "$321.94\n",
      "$356.49\n",
      "$364.46\n",
      "$372.70\n",
      "$379.94\n",
      "$379.95\n",
      "$391.48\n",
      "$393.88\n",
      "$399.00\n",
      "$399.99\n",
      "$404.23\n",
      "$408.98\n",
      "$409.63\n",
      "$410.46\n",
      "$410.66\n",
      "$416.99\n",
      "$433.30\n",
      "$436.29\n",
      "$436.29\n",
      "$439.73\n",
      "$454.62\n",
      "$454.73\n",
      "$457.38\n",
      "$465.95\n",
      "$468.56\n",
      "$469.10\n",
      "$484.23\n",
      "$485.90\n",
      "$487.80\n",
      "$488.64\n",
      "$488.78\n",
      "$494.71\n",
      "$497.17\n",
      "$498.23\n",
      "$520.99\n",
      "$564.98\n",
      "$577.99\n",
      "$581.99\n",
      "$609.99\n",
      "$679.00\n",
      "$679.00\n",
      "$729.00\n",
      "$739.99\n",
      "$745.99\n",
      "$799.00\n",
      "$809.00\n",
      "$899.00\n",
      "$999.00\n",
      "$1033.99\n",
      "$1096.02\n",
      "$1098.42\n",
      "$1099.00\n",
      "$1099.00\n",
      "$1101.83\n",
      "$1102.66\n",
      "$1110.14\n",
      "$1112.91\n",
      "$1114.55\n",
      "$1123.87\n",
      "$1123.87\n",
      "$1124.20\n",
      "$1133.82\n",
      "$1133.91\n",
      "$1139.54\n",
      "$1140.62\n",
      "$1143.40\n",
      "$1144.20\n",
      "$1144.40\n",
      "$1149.00\n",
      "$1149.00\n",
      "$1149.73\n",
      "$1154.04\n",
      "$1170.10\n",
      "$1178.19\n",
      "$1178.99\n",
      "$1179.00\n",
      "$1187.88\n",
      "$1187.98\n",
      "$1199.00\n",
      "$1199.00\n",
      "$1199.73\n",
      "$1203.41\n",
      "$1212.16\n",
      "$1221.58\n",
      "$1223.99\n",
      "$1235.49\n",
      "$1238.37\n",
      "$1239.20\n",
      "$1244.99\n",
      "$1259.00\n",
      "$1260.13\n",
      "$1271.06\n",
      "$1273.11\n",
      "$1281.99\n",
      "$1294.74\n",
      "$1299.00\n",
      "$1310.39\n",
      "$1311.99\n",
      "$1326.83\n",
      "$1333.00\n",
      "$1337.28\n",
      "$1338.37\n",
      "$1341.22\n",
      "$1347.78\n",
      "$1349.23\n",
      "$1362.24\n",
      "$1366.32\n",
      "$1381.13\n",
      "$1399.00\n",
      "$1399.00\n",
      "$1769.00\n",
      "$1769.00\n",
      "$1799.00\n"
     ]
    }
   ],
   "source": [
    "# Iteration\n",
    "for i in price:\n",
    "    print(i.text)"
   ]
  },
  {
   "cell_type": "code",
   "execution_count": 24,
   "metadata": {},
   "outputs": [
    {
     "data": {
      "text/plain": [
       "117"
      ]
     },
     "execution_count": 24,
     "metadata": {},
     "output_type": "execute_result"
    }
   ],
   "source": [
    "len(price)"
   ]
  },
  {
   "cell_type": "code",
   "execution_count": 27,
   "metadata": {},
   "outputs": [
    {
     "data": {
      "text/plain": [
       "<h4 class=\"float-end price card-title pull-right\">$299.00</h4>"
      ]
     },
     "execution_count": 27,
     "metadata": {},
     "output_type": "execute_result"
    }
   ],
   "source": [
    "price[2]"
   ]
  },
  {
   "cell_type": "code",
   "execution_count": 34,
   "metadata": {},
   "outputs": [
    {
     "data": {
      "text/plain": [
       "'Prestigio Smar...'"
      ]
     },
     "execution_count": 34,
     "metadata": {},
     "output_type": "execute_result"
    }
   ],
   "source": [
    "title = soup.find_all(\"a\" , class_=\"title\")\n",
    "title[2].text"
   ]
  },
  {
   "cell_type": "code",
   "execution_count": 42,
   "metadata": {},
   "outputs": [
    {
     "data": {
      "text/plain": [
       "'Prestigio SmartBook 133S Gold, 13.3\" FHD IPS, Celeron N3350 1.1GHz, 4GB, 32GB, Windows 10 Pro + Office 365 1 gadam'"
      ]
     },
     "execution_count": 42,
     "metadata": {},
     "output_type": "execute_result"
    }
   ],
   "source": [
    "des = soup.find_all(\"p\",class_=\"description\")\n",
    "des[2].text"
   ]
  },
  {
   "cell_type": "code",
   "execution_count": 55,
   "metadata": {},
   "outputs": [
    {
     "name": "stdout",
     "output_type": "stream",
     "text": [
      "Title:Prestigio Smar... \n",
      "      Description: Prestigio SmartBook 133S Gold, 13.3\" FHD IPS, Celeron N3350 1.1GHz, 4GB, 32GB, Windows 10 Pro + Office 365 1 gadam\n",
      "      Price: $299.00\n",
      "    \n"
     ]
    }
   ],
   "source": [
    "# Product which is placed at the index 2\n",
    "ptitle = title[2].text\n",
    "pdes = des[2].text\n",
    "pprice = price[2].text\n",
    "print(\"\"\"Title:{0} \n",
    "      Description: {1}\n",
    "      Price: {2}\n",
    "    \"\"\".format(ptitle,pdes,pprice))"
   ]
  }
 ],
 "metadata": {
  "kernelspec": {
   "display_name": "Python 3",
   "language": "python",
   "name": "python3"
  },
  "language_info": {
   "codemirror_mode": {
    "name": "ipython",
    "version": 3
   },
   "file_extension": ".py",
   "mimetype": "text/x-python",
   "name": "python",
   "nbconvert_exporter": "python",
   "pygments_lexer": "ipython3",
   "version": "3.11.5"
  }
 },
 "nbformat": 4,
 "nbformat_minor": 2
}
